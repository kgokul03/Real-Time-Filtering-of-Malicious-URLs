{
  "nbformat": 4,
  "nbformat_minor": 0,
  "metadata": {
    "colab": {
      "name": "Security Lab.ipynb",
      "provenance": [],
      "collapsed_sections": [],
      "toc_visible": true
    },
    "kernelspec": {
      "name": "python3",
      "display_name": "Python 3"
    }
  },
  "cells": [
    {
      "cell_type": "markdown",
      "metadata": {
        "id": "ww7xGh85rwcb"
      },
      "source": [
        "# Real Time Filtering of Malicious URLs"
      ]
    },
    {
      "cell_type": "markdown",
      "metadata": {
        "id": "lGQo6Mvpr1HV"
      },
      "source": [
        "The main aim of this project is to built a lightweight filtering system to filter out the\n",
        "harmful URLs by using Machine Learning Algorithms and methodologies."
      ]
    },
    {
      "cell_type": "markdown",
      "metadata": {
        "id": "Hd8vX7jEsZ9P"
      },
      "source": [
        "The project has three main modules \n",
        "\n",
        "\n",
        "1.   Pre-Processing\n",
        "2.   Building Machine Learning Models and Testing\n",
        "3.   Real Time Filtering\n",
        "\n"
      ]
    },
    {
      "cell_type": "markdown",
      "metadata": {
        "id": "u305mifQswm9"
      },
      "source": [
        "# Loading the dataset\n",
        "The dataset used for this project is taken from Kaggle. This link is https://www.kaggle.com/xwolf12/malicious-and-benign-websites"
      ]
    },
    {
      "cell_type": "code",
      "metadata": {
        "id": "rY-KdY13OL0x"
      },
      "source": [
        "#importing the pandas and numpy libraries\n",
        "\n",
        "#pandas is used for data processing\n",
        "import pandas as pd\n",
        "\n",
        "#numpy is used for mathematical operations\n",
        "import numpy as np"
      ],
      "execution_count": null,
      "outputs": []
    },
    {
      "cell_type": "code",
      "metadata": {
        "id": "DiaqWaQSOboN"
      },
      "source": [
        "#loading the dataset\n",
        "df = pd.read_csv(\"/content/dataset.csv\")"
      ],
      "execution_count": null,
      "outputs": []
    },
    {
      "cell_type": "code",
      "metadata": {
        "id": "GneTkUDEPrp4",
        "outputId": "bdf63da3-d3ec-429f-a15f-60b44f89b3f3",
        "colab": {
          "base_uri": "https://localhost:8080/",
          "height": 498
        }
      },
      "source": [
        "#viewing the data\n",
        "df.head(10)"
      ],
      "execution_count": null,
      "outputs": [
        {
          "output_type": "execute_result",
          "data": {
            "text/html": [
              "<div>\n",
              "<style scoped>\n",
              "    .dataframe tbody tr th:only-of-type {\n",
              "        vertical-align: middle;\n",
              "    }\n",
              "\n",
              "    .dataframe tbody tr th {\n",
              "        vertical-align: top;\n",
              "    }\n",
              "\n",
              "    .dataframe thead th {\n",
              "        text-align: right;\n",
              "    }\n",
              "</style>\n",
              "<table border=\"1\" class=\"dataframe\">\n",
              "  <thead>\n",
              "    <tr style=\"text-align: right;\">\n",
              "      <th></th>\n",
              "      <th>URL</th>\n",
              "      <th>URL_LENGTH</th>\n",
              "      <th>NUMBER_SPECIAL_CHARACTERS</th>\n",
              "      <th>CHARSET</th>\n",
              "      <th>SERVER</th>\n",
              "      <th>CONTENT_LENGTH</th>\n",
              "      <th>WHOIS_COUNTRY</th>\n",
              "      <th>WHOIS_STATEPRO</th>\n",
              "      <th>WHOIS_REGDATE</th>\n",
              "      <th>WHOIS_UPDATED_DATE</th>\n",
              "      <th>TCP_CONVERSATION_EXCHANGE</th>\n",
              "      <th>DIST_REMOTE_TCP_PORT</th>\n",
              "      <th>REMOTE_IPS</th>\n",
              "      <th>APP_BYTES</th>\n",
              "      <th>SOURCE_APP_PACKETS</th>\n",
              "      <th>REMOTE_APP_PACKETS</th>\n",
              "      <th>SOURCE_APP_BYTES</th>\n",
              "      <th>REMOTE_APP_BYTES</th>\n",
              "      <th>APP_PACKETS</th>\n",
              "      <th>DNS_QUERY_TIMES</th>\n",
              "      <th>Type</th>\n",
              "    </tr>\n",
              "  </thead>\n",
              "  <tbody>\n",
              "    <tr>\n",
              "      <th>0</th>\n",
              "      <td>M0_109</td>\n",
              "      <td>16</td>\n",
              "      <td>7</td>\n",
              "      <td>iso-8859-1</td>\n",
              "      <td>nginx</td>\n",
              "      <td>263.0</td>\n",
              "      <td>None</td>\n",
              "      <td>None</td>\n",
              "      <td>10/10/2015 18:21</td>\n",
              "      <td>None</td>\n",
              "      <td>7</td>\n",
              "      <td>0</td>\n",
              "      <td>2</td>\n",
              "      <td>700</td>\n",
              "      <td>9</td>\n",
              "      <td>10</td>\n",
              "      <td>1153</td>\n",
              "      <td>832</td>\n",
              "      <td>9</td>\n",
              "      <td>2.0</td>\n",
              "      <td>1</td>\n",
              "    </tr>\n",
              "    <tr>\n",
              "      <th>1</th>\n",
              "      <td>B0_2314</td>\n",
              "      <td>16</td>\n",
              "      <td>6</td>\n",
              "      <td>UTF-8</td>\n",
              "      <td>Apache/2.4.10</td>\n",
              "      <td>15087.0</td>\n",
              "      <td>None</td>\n",
              "      <td>None</td>\n",
              "      <td>None</td>\n",
              "      <td>None</td>\n",
              "      <td>17</td>\n",
              "      <td>7</td>\n",
              "      <td>4</td>\n",
              "      <td>1230</td>\n",
              "      <td>17</td>\n",
              "      <td>19</td>\n",
              "      <td>1265</td>\n",
              "      <td>1230</td>\n",
              "      <td>17</td>\n",
              "      <td>0.0</td>\n",
              "      <td>0</td>\n",
              "    </tr>\n",
              "    <tr>\n",
              "      <th>2</th>\n",
              "      <td>B0_911</td>\n",
              "      <td>16</td>\n",
              "      <td>6</td>\n",
              "      <td>us-ascii</td>\n",
              "      <td>Microsoft-HTTPAPI/2.0</td>\n",
              "      <td>324.0</td>\n",
              "      <td>None</td>\n",
              "      <td>None</td>\n",
              "      <td>None</td>\n",
              "      <td>None</td>\n",
              "      <td>0</td>\n",
              "      <td>0</td>\n",
              "      <td>0</td>\n",
              "      <td>0</td>\n",
              "      <td>0</td>\n",
              "      <td>0</td>\n",
              "      <td>0</td>\n",
              "      <td>0</td>\n",
              "      <td>0</td>\n",
              "      <td>0.0</td>\n",
              "      <td>0</td>\n",
              "    </tr>\n",
              "    <tr>\n",
              "      <th>3</th>\n",
              "      <td>B0_113</td>\n",
              "      <td>17</td>\n",
              "      <td>6</td>\n",
              "      <td>ISO-8859-1</td>\n",
              "      <td>nginx</td>\n",
              "      <td>162.0</td>\n",
              "      <td>US</td>\n",
              "      <td>AK</td>\n",
              "      <td>7/10/1997 4:00</td>\n",
              "      <td>12/09/2013 0:45</td>\n",
              "      <td>31</td>\n",
              "      <td>22</td>\n",
              "      <td>3</td>\n",
              "      <td>3812</td>\n",
              "      <td>39</td>\n",
              "      <td>37</td>\n",
              "      <td>18784</td>\n",
              "      <td>4380</td>\n",
              "      <td>39</td>\n",
              "      <td>8.0</td>\n",
              "      <td>0</td>\n",
              "    </tr>\n",
              "    <tr>\n",
              "      <th>4</th>\n",
              "      <td>B0_403</td>\n",
              "      <td>17</td>\n",
              "      <td>6</td>\n",
              "      <td>UTF-8</td>\n",
              "      <td>None</td>\n",
              "      <td>124140.0</td>\n",
              "      <td>US</td>\n",
              "      <td>TX</td>\n",
              "      <td>12/05/1996 0:00</td>\n",
              "      <td>11/04/2017 0:00</td>\n",
              "      <td>57</td>\n",
              "      <td>2</td>\n",
              "      <td>5</td>\n",
              "      <td>4278</td>\n",
              "      <td>61</td>\n",
              "      <td>62</td>\n",
              "      <td>129889</td>\n",
              "      <td>4586</td>\n",
              "      <td>61</td>\n",
              "      <td>4.0</td>\n",
              "      <td>0</td>\n",
              "    </tr>\n",
              "    <tr>\n",
              "      <th>5</th>\n",
              "      <td>B0_2064</td>\n",
              "      <td>18</td>\n",
              "      <td>7</td>\n",
              "      <td>UTF-8</td>\n",
              "      <td>nginx</td>\n",
              "      <td>NaN</td>\n",
              "      <td>SC</td>\n",
              "      <td>Mahe</td>\n",
              "      <td>3/08/2016 14:30</td>\n",
              "      <td>3/10/2016 3:45</td>\n",
              "      <td>11</td>\n",
              "      <td>6</td>\n",
              "      <td>9</td>\n",
              "      <td>894</td>\n",
              "      <td>11</td>\n",
              "      <td>13</td>\n",
              "      <td>838</td>\n",
              "      <td>894</td>\n",
              "      <td>11</td>\n",
              "      <td>0.0</td>\n",
              "      <td>0</td>\n",
              "    </tr>\n",
              "    <tr>\n",
              "      <th>6</th>\n",
              "      <td>B0_462</td>\n",
              "      <td>18</td>\n",
              "      <td>6</td>\n",
              "      <td>iso-8859-1</td>\n",
              "      <td>Apache/2</td>\n",
              "      <td>345.0</td>\n",
              "      <td>US</td>\n",
              "      <td>CO</td>\n",
              "      <td>29/07/2002 0:00</td>\n",
              "      <td>1/07/2016 0:00</td>\n",
              "      <td>12</td>\n",
              "      <td>0</td>\n",
              "      <td>3</td>\n",
              "      <td>1189</td>\n",
              "      <td>14</td>\n",
              "      <td>13</td>\n",
              "      <td>8559</td>\n",
              "      <td>1327</td>\n",
              "      <td>14</td>\n",
              "      <td>2.0</td>\n",
              "      <td>0</td>\n",
              "    </tr>\n",
              "    <tr>\n",
              "      <th>7</th>\n",
              "      <td>B0_1128</td>\n",
              "      <td>19</td>\n",
              "      <td>6</td>\n",
              "      <td>us-ascii</td>\n",
              "      <td>Microsoft-HTTPAPI/2.0</td>\n",
              "      <td>324.0</td>\n",
              "      <td>US</td>\n",
              "      <td>FL</td>\n",
              "      <td>18/03/1997 0:00</td>\n",
              "      <td>19/03/2017 0:00</td>\n",
              "      <td>0</td>\n",
              "      <td>0</td>\n",
              "      <td>0</td>\n",
              "      <td>0</td>\n",
              "      <td>0</td>\n",
              "      <td>0</td>\n",
              "      <td>0</td>\n",
              "      <td>0</td>\n",
              "      <td>0</td>\n",
              "      <td>0.0</td>\n",
              "      <td>0</td>\n",
              "    </tr>\n",
              "    <tr>\n",
              "      <th>8</th>\n",
              "      <td>M2_17</td>\n",
              "      <td>20</td>\n",
              "      <td>5</td>\n",
              "      <td>utf-8</td>\n",
              "      <td>nginx/1.10.1</td>\n",
              "      <td>NaN</td>\n",
              "      <td>None</td>\n",
              "      <td>None</td>\n",
              "      <td>8/11/2014 7:41</td>\n",
              "      <td>None</td>\n",
              "      <td>0</td>\n",
              "      <td>0</td>\n",
              "      <td>0</td>\n",
              "      <td>0</td>\n",
              "      <td>2</td>\n",
              "      <td>3</td>\n",
              "      <td>213</td>\n",
              "      <td>146</td>\n",
              "      <td>2</td>\n",
              "      <td>2.0</td>\n",
              "      <td>1</td>\n",
              "    </tr>\n",
              "    <tr>\n",
              "      <th>9</th>\n",
              "      <td>M3_75</td>\n",
              "      <td>20</td>\n",
              "      <td>5</td>\n",
              "      <td>utf-8</td>\n",
              "      <td>nginx/1.10.1</td>\n",
              "      <td>NaN</td>\n",
              "      <td>None</td>\n",
              "      <td>None</td>\n",
              "      <td>8/11/2014 7:41</td>\n",
              "      <td>None</td>\n",
              "      <td>0</td>\n",
              "      <td>0</td>\n",
              "      <td>0</td>\n",
              "      <td>0</td>\n",
              "      <td>2</td>\n",
              "      <td>1</td>\n",
              "      <td>62</td>\n",
              "      <td>146</td>\n",
              "      <td>2</td>\n",
              "      <td>2.0</td>\n",
              "      <td>1</td>\n",
              "    </tr>\n",
              "  </tbody>\n",
              "</table>\n",
              "</div>"
            ],
            "text/plain": [
              "       URL  URL_LENGTH  ...  DNS_QUERY_TIMES Type\n",
              "0   M0_109          16  ...              2.0    1\n",
              "1  B0_2314          16  ...              0.0    0\n",
              "2   B0_911          16  ...              0.0    0\n",
              "3   B0_113          17  ...              8.0    0\n",
              "4   B0_403          17  ...              4.0    0\n",
              "5  B0_2064          18  ...              0.0    0\n",
              "6   B0_462          18  ...              2.0    0\n",
              "7  B0_1128          19  ...              0.0    0\n",
              "8    M2_17          20  ...              2.0    1\n",
              "9    M3_75          20  ...              2.0    1\n",
              "\n",
              "[10 rows x 21 columns]"
            ]
          },
          "metadata": {
            "tags": []
          },
          "execution_count": 4
        }
      ]
    },
    {
      "cell_type": "markdown",
      "metadata": {
        "id": "T1YfCLEQWzvR"
      },
      "source": [
        "# Pre-Processing\n",
        "The different pre-processing steps done are\n",
        "\n",
        "1.   Feature Selection: Only 6 features were selected for the training of the models. These features were selected based on the covariance value with the output label.\n",
        "2.   Tokenization: Converting the strings to numeric tokens\n",
        "3.   Normalization: Since the range of the numeric data is very large, the variance increases and this affects the training process. To reduce variance, Normalization is done.\n",
        "\n"
      ]
    },
    {
      "cell_type": "markdown",
      "metadata": {
        "id": "nsbGKClRu_to"
      },
      "source": [
        "## Feature Selection"
      ]
    },
    {
      "cell_type": "code",
      "metadata": {
        "id": "h255Vw95PFBp",
        "outputId": "1b2eebc6-b183-4f07-9d43-9bca0cf3b407",
        "colab": {
          "base_uri": "https://localhost:8080/"
        }
      },
      "source": [
        "#getting all the column names\n",
        "df.columns"
      ],
      "execution_count": null,
      "outputs": [
        {
          "output_type": "execute_result",
          "data": {
            "text/plain": [
              "Index(['URL', 'URL_LENGTH', 'NUMBER_SPECIAL_CHARACTERS', 'CHARSET', 'SERVER',\n",
              "       'CONTENT_LENGTH', 'WHOIS_COUNTRY', 'WHOIS_STATEPRO', 'WHOIS_REGDATE',\n",
              "       'WHOIS_UPDATED_DATE', 'TCP_CONVERSATION_EXCHANGE',\n",
              "       'DIST_REMOTE_TCP_PORT', 'REMOTE_IPS', 'APP_BYTES', 'SOURCE_APP_PACKETS',\n",
              "       'REMOTE_APP_PACKETS', 'SOURCE_APP_BYTES', 'REMOTE_APP_BYTES',\n",
              "       'APP_PACKETS', 'DNS_QUERY_TIMES', 'Type'],\n",
              "      dtype='object')"
            ]
          },
          "metadata": {
            "tags": []
          },
          "execution_count": 5
        }
      ]
    },
    {
      "cell_type": "code",
      "metadata": {
        "id": "0s7-mRUaVomo",
        "outputId": "0133bd18-5354-4699-8c57-075c40fd9fce",
        "colab": {
          "base_uri": "https://localhost:8080/"
        }
      },
      "source": [
        "#total number of columns in the dataframe\n",
        "len(df.columns)"
      ],
      "execution_count": null,
      "outputs": [
        {
          "output_type": "execute_result",
          "data": {
            "text/plain": [
              "21"
            ]
          },
          "metadata": {
            "tags": []
          },
          "execution_count": 6
        }
      ]
    },
    {
      "cell_type": "code",
      "metadata": {
        "id": "ME2swNPSPGE7"
      },
      "source": [
        "#selecting particular columns\n",
        "df_part= df[['NUMBER_SPECIAL_CHARACTERS','SERVER','CONTENT_LENGTH','WHOIS_STATEPRO','DIST_REMOTE_TCP_PORT','REMOTE_IPS','Type' ]]"
      ],
      "execution_count": null,
      "outputs": []
    },
    {
      "cell_type": "code",
      "metadata": {
        "id": "uunPmddVPpJQ",
        "outputId": "040aa2c9-7d81-4ae3-b246-47c4b912a339",
        "colab": {
          "base_uri": "https://localhost:8080/",
          "height": 204
        }
      },
      "source": [
        "#viewing the modified dataset\n",
        "df_part.head(5)"
      ],
      "execution_count": null,
      "outputs": [
        {
          "output_type": "execute_result",
          "data": {
            "text/html": [
              "<div>\n",
              "<style scoped>\n",
              "    .dataframe tbody tr th:only-of-type {\n",
              "        vertical-align: middle;\n",
              "    }\n",
              "\n",
              "    .dataframe tbody tr th {\n",
              "        vertical-align: top;\n",
              "    }\n",
              "\n",
              "    .dataframe thead th {\n",
              "        text-align: right;\n",
              "    }\n",
              "</style>\n",
              "<table border=\"1\" class=\"dataframe\">\n",
              "  <thead>\n",
              "    <tr style=\"text-align: right;\">\n",
              "      <th></th>\n",
              "      <th>NUMBER_SPECIAL_CHARACTERS</th>\n",
              "      <th>SERVER</th>\n",
              "      <th>CONTENT_LENGTH</th>\n",
              "      <th>WHOIS_STATEPRO</th>\n",
              "      <th>DIST_REMOTE_TCP_PORT</th>\n",
              "      <th>REMOTE_IPS</th>\n",
              "      <th>Type</th>\n",
              "    </tr>\n",
              "  </thead>\n",
              "  <tbody>\n",
              "    <tr>\n",
              "      <th>0</th>\n",
              "      <td>7</td>\n",
              "      <td>nginx</td>\n",
              "      <td>263.0</td>\n",
              "      <td>None</td>\n",
              "      <td>0</td>\n",
              "      <td>2</td>\n",
              "      <td>1</td>\n",
              "    </tr>\n",
              "    <tr>\n",
              "      <th>1</th>\n",
              "      <td>6</td>\n",
              "      <td>Apache/2.4.10</td>\n",
              "      <td>15087.0</td>\n",
              "      <td>None</td>\n",
              "      <td>7</td>\n",
              "      <td>4</td>\n",
              "      <td>0</td>\n",
              "    </tr>\n",
              "    <tr>\n",
              "      <th>2</th>\n",
              "      <td>6</td>\n",
              "      <td>Microsoft-HTTPAPI/2.0</td>\n",
              "      <td>324.0</td>\n",
              "      <td>None</td>\n",
              "      <td>0</td>\n",
              "      <td>0</td>\n",
              "      <td>0</td>\n",
              "    </tr>\n",
              "    <tr>\n",
              "      <th>3</th>\n",
              "      <td>6</td>\n",
              "      <td>nginx</td>\n",
              "      <td>162.0</td>\n",
              "      <td>AK</td>\n",
              "      <td>22</td>\n",
              "      <td>3</td>\n",
              "      <td>0</td>\n",
              "    </tr>\n",
              "    <tr>\n",
              "      <th>4</th>\n",
              "      <td>6</td>\n",
              "      <td>None</td>\n",
              "      <td>124140.0</td>\n",
              "      <td>TX</td>\n",
              "      <td>2</td>\n",
              "      <td>5</td>\n",
              "      <td>0</td>\n",
              "    </tr>\n",
              "  </tbody>\n",
              "</table>\n",
              "</div>"
            ],
            "text/plain": [
              "   NUMBER_SPECIAL_CHARACTERS                 SERVER  ...  REMOTE_IPS Type\n",
              "0                          7                  nginx  ...           2    1\n",
              "1                          6          Apache/2.4.10  ...           4    0\n",
              "2                          6  Microsoft-HTTPAPI/2.0  ...           0    0\n",
              "3                          6                  nginx  ...           3    0\n",
              "4                          6                   None  ...           5    0\n",
              "\n",
              "[5 rows x 7 columns]"
            ]
          },
          "metadata": {
            "tags": []
          },
          "execution_count": 8
        }
      ]
    },
    {
      "cell_type": "markdown",
      "metadata": {
        "id": "DkVTODnLvCaR"
      },
      "source": [
        "## Tokenization"
      ]
    },
    {
      "cell_type": "code",
      "metadata": {
        "id": "GANaLFxCQmby"
      },
      "source": [
        "#mapping the server name strings to integers or tokens\n",
        "\n",
        "#getting the unique server names\n",
        "server_names = df.SERVER.unique()\n",
        "\n",
        "#creating a map between the server name and token\n",
        "server_names_map = {k:v for v,k in enumerate(server_names)}"
      ],
      "execution_count": null,
      "outputs": []
    },
    {
      "cell_type": "code",
      "metadata": {
        "id": "48Mf3f6hQpEW"
      },
      "source": [
        "#getting the unique state names\n",
        "state_names = df.WHOIS_STATEPRO.unique()\n",
        "\n",
        "#creating a map between the state name and token\n",
        "state_names_map = {k:v for v,k in enumerate(state_names)}"
      ],
      "execution_count": null,
      "outputs": []
    },
    {
      "cell_type": "code",
      "metadata": {
        "id": "M_n64JhcS1-B"
      },
      "source": [
        " #applying the server map to the dataframe\n",
        " df_part.SERVER = df_part.SERVER.apply(lambda x: server_names_map[x])"
      ],
      "execution_count": null,
      "outputs": []
    },
    {
      "cell_type": "code",
      "metadata": {
        "id": "NyvEqFnrTjfz"
      },
      "source": [
        "#applying the state map to the dataframe\n",
        "df_part.WHOIS_STATEPRO = df_part.WHOIS_STATEPRO.apply(lambda x: state_names_map[x])"
      ],
      "execution_count": null,
      "outputs": []
    },
    {
      "cell_type": "code",
      "metadata": {
        "id": "DMmQYBeiWHlE"
      },
      "source": [
        "#making the NaN values as 0\n",
        "df_part['CONTENT_LENGTH'] = df_part['CONTENT_LENGTH'].fillna(0)\n",
        "\n",
        "#making the content_length column as type int\n",
        "df_part['CONTENT_LENGTH'] = df_part['CONTENT_LENGTH'].astype('int')"
      ],
      "execution_count": null,
      "outputs": []
    },
    {
      "cell_type": "code",
      "metadata": {
        "id": "ZuhlhxXJVGLo",
        "outputId": "47cce875-5ea3-422e-9c6a-efe1e63fee75",
        "colab": {
          "base_uri": "https://localhost:8080/",
          "height": 204
        }
      },
      "source": [
        "#viewing the updated dataset\n",
        "df_part.head(5)"
      ],
      "execution_count": null,
      "outputs": [
        {
          "output_type": "execute_result",
          "data": {
            "text/html": [
              "<div>\n",
              "<style scoped>\n",
              "    .dataframe tbody tr th:only-of-type {\n",
              "        vertical-align: middle;\n",
              "    }\n",
              "\n",
              "    .dataframe tbody tr th {\n",
              "        vertical-align: top;\n",
              "    }\n",
              "\n",
              "    .dataframe thead th {\n",
              "        text-align: right;\n",
              "    }\n",
              "</style>\n",
              "<table border=\"1\" class=\"dataframe\">\n",
              "  <thead>\n",
              "    <tr style=\"text-align: right;\">\n",
              "      <th></th>\n",
              "      <th>NUMBER_SPECIAL_CHARACTERS</th>\n",
              "      <th>SERVER</th>\n",
              "      <th>CONTENT_LENGTH</th>\n",
              "      <th>WHOIS_STATEPRO</th>\n",
              "      <th>DIST_REMOTE_TCP_PORT</th>\n",
              "      <th>REMOTE_IPS</th>\n",
              "      <th>Type</th>\n",
              "    </tr>\n",
              "  </thead>\n",
              "  <tbody>\n",
              "    <tr>\n",
              "      <th>0</th>\n",
              "      <td>7</td>\n",
              "      <td>0</td>\n",
              "      <td>263</td>\n",
              "      <td>0</td>\n",
              "      <td>0</td>\n",
              "      <td>2</td>\n",
              "      <td>1</td>\n",
              "    </tr>\n",
              "    <tr>\n",
              "      <th>1</th>\n",
              "      <td>6</td>\n",
              "      <td>1</td>\n",
              "      <td>15087</td>\n",
              "      <td>0</td>\n",
              "      <td>7</td>\n",
              "      <td>4</td>\n",
              "      <td>0</td>\n",
              "    </tr>\n",
              "    <tr>\n",
              "      <th>2</th>\n",
              "      <td>6</td>\n",
              "      <td>2</td>\n",
              "      <td>324</td>\n",
              "      <td>0</td>\n",
              "      <td>0</td>\n",
              "      <td>0</td>\n",
              "      <td>0</td>\n",
              "    </tr>\n",
              "    <tr>\n",
              "      <th>3</th>\n",
              "      <td>6</td>\n",
              "      <td>0</td>\n",
              "      <td>162</td>\n",
              "      <td>1</td>\n",
              "      <td>22</td>\n",
              "      <td>3</td>\n",
              "      <td>0</td>\n",
              "    </tr>\n",
              "    <tr>\n",
              "      <th>4</th>\n",
              "      <td>6</td>\n",
              "      <td>3</td>\n",
              "      <td>124140</td>\n",
              "      <td>2</td>\n",
              "      <td>2</td>\n",
              "      <td>5</td>\n",
              "      <td>0</td>\n",
              "    </tr>\n",
              "  </tbody>\n",
              "</table>\n",
              "</div>"
            ],
            "text/plain": [
              "   NUMBER_SPECIAL_CHARACTERS  SERVER  ...  REMOTE_IPS  Type\n",
              "0                          7       0  ...           2     1\n",
              "1                          6       1  ...           4     0\n",
              "2                          6       2  ...           0     0\n",
              "3                          6       0  ...           3     0\n",
              "4                          6       3  ...           5     0\n",
              "\n",
              "[5 rows x 7 columns]"
            ]
          },
          "metadata": {
            "tags": []
          },
          "execution_count": 26
        }
      ]
    },
    {
      "cell_type": "code",
      "metadata": {
        "id": "qLFZfDAgVezy"
      },
      "source": [
        "#Splitting into X and y\n",
        "\n",
        "X = df_part.iloc[:, :-1]\n",
        "y = df_part.iloc[:, -1]"
      ],
      "execution_count": null,
      "outputs": []
    },
    {
      "cell_type": "code",
      "metadata": {
        "id": "KIHMFvRcTng2"
      },
      "source": [
        "from sklearn.model_selection import train_test_split\n",
        "\n",
        "#splitting into train and test sets\n",
        "X_train, X_test, y_train, y_test = train_test_split(X, y, test_size=0.2, random_state=0)"
      ],
      "execution_count": null,
      "outputs": []
    },
    {
      "cell_type": "markdown",
      "metadata": {
        "id": "wUDgDMsyu8JF"
      },
      "source": [
        "## Normalization"
      ]
    },
    {
      "cell_type": "code",
      "metadata": {
        "id": "5GByP6rlUSts"
      },
      "source": [
        "from sklearn.preprocessing import StandardScaler\n",
        "#scaling the values in X_train\n",
        "sc = StandardScaler()\n",
        "X_train = sc.fit_transform(X_train)\n",
        "X_test = sc.transform(X_test)"
      ],
      "execution_count": null,
      "outputs": []
    },
    {
      "cell_type": "markdown",
      "metadata": {
        "id": "orXFM4p-dbxG"
      },
      "source": [
        "# Building Machine Learning models and Testing\n",
        "Three machine learning models were developed to compare and contrast the results of the different models.\n",
        "Three ML models were developed\n",
        "\n",
        "\n",
        "1.   Multi Layer Perceptron\n",
        "2.   Random Forest Classifier\n",
        "3.   Support Vector Machine\n",
        "\n"
      ]
    },
    {
      "cell_type": "markdown",
      "metadata": {
        "id": "-mfRRqmUvi81"
      },
      "source": [
        "## Random Forest Classifier"
      ]
    },
    {
      "cell_type": "code",
      "metadata": {
        "id": "yGOTyehHP5kh"
      },
      "source": [
        "from sklearn.metrics import classification_report, confusion_matrix, accuracy_score"
      ],
      "execution_count": null,
      "outputs": []
    },
    {
      "cell_type": "code",
      "metadata": {
        "id": "VRSQ5WK6YIpD"
      },
      "source": [
        "from sklearn.ensemble import RandomForestClassifier\n",
        "\n",
        "#defining the Random Forest model with 30 decision trees\n",
        "classifier = RandomForestClassifier(n_estimators=30, random_state=42)\n",
        "\n",
        "#training the model with the training set\n",
        "classifier.fit(X_train, y_train)\n",
        "\n",
        "#prediciting the outputs on the test set\n",
        "y_pred = classifier.predict(X_test)"
      ],
      "execution_count": null,
      "outputs": []
    },
    {
      "cell_type": "markdown",
      "metadata": {
        "id": "rk6zJHEqv_ds"
      },
      "source": [
        "### Evaluation Metrics"
      ]
    },
    {
      "cell_type": "code",
      "metadata": {
        "id": "eUguqRXQhdXx",
        "outputId": "957a6eae-1a2f-4d1e-8653-2810f82c7bc1",
        "colab": {
          "base_uri": "https://localhost:8080/"
        }
      },
      "source": [
        "print(classification_report(y_test,y_pred))\n",
        "print(accuracy_score(y_test, y_pred))"
      ],
      "execution_count": null,
      "outputs": [
        {
          "output_type": "stream",
          "text": [
            "              precision    recall  f1-score   support\n",
            "\n",
            "           0       0.97      0.99      0.98       316\n",
            "           1       0.89      0.80      0.85        41\n",
            "\n",
            "    accuracy                           0.97       357\n",
            "   macro avg       0.93      0.90      0.91       357\n",
            "weighted avg       0.97      0.97      0.97       357\n",
            "\n",
            "0.9663865546218487\n"
          ],
          "name": "stdout"
        }
      ]
    },
    {
      "cell_type": "code",
      "metadata": {
        "id": "CIbijNsSQ4Di"
      },
      "source": [
        "from sklearn.metrics import plot_precision_recall_curve\n",
        "import matplotlib.pyplot as plt\n"
      ],
      "execution_count": null,
      "outputs": []
    },
    {
      "cell_type": "code",
      "metadata": {
        "id": "t97YVvYHfgD5",
        "outputId": "5dc06636-1748-45a2-82ae-6c6f1d8b024d",
        "colab": {
          "base_uri": "https://localhost:8080/",
          "height": 279
        }
      },
      "source": [
        "#plotting the PR curve\n",
        "disp_rf = plot_precision_recall_curve(classifier, X_test, y_test)\n"
      ],
      "execution_count": null,
      "outputs": [
        {
          "output_type": "display_data",
          "data": {
            "image/png": "[encoded data removed]",
            "text/plain": [
              "<Figure size 432x288 with 1 Axes>"
            ]
          },
          "metadata": {
            "tags": [],
            "needs_background": "light"
          }
        }
      ]
    },
    {
      "cell_type": "markdown",
      "metadata": {
        "id": "VCLE72_-dZW9"
      },
      "source": [
        "## Multi Layer Perceptron"
      ]
    },
    {
      "cell_type": "code",
      "metadata": {
        "id": "_0MKpSYoYYPx"
      },
      "source": [
        "#importing the libraries\n",
        "import tensorflow as tf\n",
        "import keras"
      ],
      "execution_count": null,
      "outputs": []
    },
    {
      "cell_type": "code",
      "metadata": {
        "id": "By4RkdqKZSIK"
      },
      "source": [
        "#defining the ML model\n",
        "model = tf.keras.models.Sequential()\n",
        "model.add(tf.keras.layers.Dense(10, activation='relu'))\n",
        "model.add(tf.keras.layers.Dense(16, activation='relu'))\n",
        "model.add(tf.keras.layers.Dense(32, activation='relu'))\n",
        "model.add(tf.keras.layers.Dense(1, activation='sigmoid'))"
      ],
      "execution_count": null,
      "outputs": []
    },
    {
      "cell_type": "code",
      "metadata": {
        "id": "d_HamkXeZwPp"
      },
      "source": [
        "adam_optimizer = tf.keras.optimizers.Adam(learning_rate=0.001)\n",
        "model.compile(optimizer=adam_optimizer, loss='binary_crossentropy', metrics=['accuracy'])"
      ],
      "execution_count": null,
      "outputs": []
    },
    {
      "cell_type": "code",
      "metadata": {
        "id": "fXqTGaDsagbB",
        "outputId": "d8e63177-e374-4c35-d988-9906215c5407",
        "colab": {
          "base_uri": "https://localhost:8080/"
        }
      },
      "source": [
        "history = model.fit(X_train, y_train, batch_size=32, epochs=30, verbose=1, validation_split=0.1, shuffle=True)"
      ],
      "execution_count": null,
      "outputs": [
        {
          "output_type": "stream",
          "text": [
            "Epoch 1/30\n",
            "41/41 [==============================] - 0s 4ms/step - loss: 0.1938 - accuracy: 0.9204 - val_loss: 0.2132 - val_accuracy: 0.9231\n",
            "Epoch 2/30\n",
            "41/41 [==============================] - 0s 2ms/step - loss: 0.1871 - accuracy: 0.9219 - val_loss: 0.2129 - val_accuracy: 0.9091\n",
            "Epoch 3/30\n",
            "41/41 [==============================] - 0s 2ms/step - loss: 0.1844 - accuracy: 0.9219 - val_loss: 0.2126 - val_accuracy: 0.9161\n",
            "Epoch 4/30\n",
            "41/41 [==============================] - 0s 2ms/step - loss: 0.1814 - accuracy: 0.9188 - val_loss: 0.2103 - val_accuracy: 0.9161\n",
            "Epoch 5/30\n",
            "41/41 [==============================] - 0s 2ms/step - loss: 0.1791 - accuracy: 0.9235 - val_loss: 0.2078 - val_accuracy: 0.9231\n",
            "Epoch 6/30\n",
            "41/41 [==============================] - 0s 2ms/step - loss: 0.1758 - accuracy: 0.9282 - val_loss: 0.2057 - val_accuracy: 0.9231\n",
            "Epoch 7/30\n",
            "41/41 [==============================] - 0s 2ms/step - loss: 0.1735 - accuracy: 0.9274 - val_loss: 0.2053 - val_accuracy: 0.9091\n",
            "Epoch 8/30\n",
            "41/41 [==============================] - 0s 2ms/step - loss: 0.1712 - accuracy: 0.9274 - val_loss: 0.2013 - val_accuracy: 0.9161\n",
            "Epoch 9/30\n",
            "41/41 [==============================] - 0s 2ms/step - loss: 0.1687 - accuracy: 0.9313 - val_loss: 0.1991 - val_accuracy: 0.9091\n",
            "Epoch 10/30\n",
            "41/41 [==============================] - 0s 2ms/step - loss: 0.1664 - accuracy: 0.9305 - val_loss: 0.1973 - val_accuracy: 0.9161\n",
            "Epoch 11/30\n",
            "41/41 [==============================] - 0s 2ms/step - loss: 0.1648 - accuracy: 0.9305 - val_loss: 0.1968 - val_accuracy: 0.9161\n",
            "Epoch 12/30\n",
            "41/41 [==============================] - 0s 2ms/step - loss: 0.1631 - accuracy: 0.9313 - val_loss: 0.1935 - val_accuracy: 0.9091\n",
            "Epoch 13/30\n",
            "41/41 [==============================] - 0s 2ms/step - loss: 0.1613 - accuracy: 0.9321 - val_loss: 0.1940 - val_accuracy: 0.9091\n",
            "Epoch 14/30\n",
            "41/41 [==============================] - 0s 2ms/step - loss: 0.1598 - accuracy: 0.9360 - val_loss: 0.1910 - val_accuracy: 0.9161\n",
            "Epoch 15/30\n",
            "41/41 [==============================] - 0s 2ms/step - loss: 0.1605 - accuracy: 0.9321 - val_loss: 0.1913 - val_accuracy: 0.9091\n",
            "Epoch 16/30\n",
            "41/41 [==============================] - 0s 2ms/step - loss: 0.1581 - accuracy: 0.9321 - val_loss: 0.1940 - val_accuracy: 0.9021\n",
            "Epoch 17/30\n",
            "41/41 [==============================] - 0s 2ms/step - loss: 0.1588 - accuracy: 0.9336 - val_loss: 0.1919 - val_accuracy: 0.9021\n",
            "Epoch 18/30\n",
            "41/41 [==============================] - 0s 2ms/step - loss: 0.1556 - accuracy: 0.9344 - val_loss: 0.1892 - val_accuracy: 0.9021\n",
            "Epoch 19/30\n",
            "41/41 [==============================] - 0s 2ms/step - loss: 0.1553 - accuracy: 0.9336 - val_loss: 0.1898 - val_accuracy: 0.9021\n",
            "Epoch 20/30\n",
            "41/41 [==============================] - 0s 2ms/step - loss: 0.1545 - accuracy: 0.9321 - val_loss: 0.1881 - val_accuracy: 0.9021\n",
            "Epoch 21/30\n",
            "41/41 [==============================] - 0s 2ms/step - loss: 0.1529 - accuracy: 0.9329 - val_loss: 0.1868 - val_accuracy: 0.9021\n",
            "Epoch 22/30\n",
            "41/41 [==============================] - 0s 2ms/step - loss: 0.1519 - accuracy: 0.9329 - val_loss: 0.1884 - val_accuracy: 0.9021\n",
            "Epoch 23/30\n",
            "41/41 [==============================] - 0s 2ms/step - loss: 0.1516 - accuracy: 0.9407 - val_loss: 0.1866 - val_accuracy: 0.9021\n",
            "Epoch 24/30\n",
            "41/41 [==============================] - 0s 2ms/step - loss: 0.1513 - accuracy: 0.9383 - val_loss: 0.1850 - val_accuracy: 0.9091\n",
            "Epoch 25/30\n",
            "41/41 [==============================] - 0s 2ms/step - loss: 0.1494 - accuracy: 0.9344 - val_loss: 0.1861 - val_accuracy: 0.9021\n",
            "Epoch 26/30\n",
            "41/41 [==============================] - 0s 2ms/step - loss: 0.1487 - accuracy: 0.9352 - val_loss: 0.1875 - val_accuracy: 0.9021\n",
            "Epoch 27/30\n",
            "41/41 [==============================] - 0s 2ms/step - loss: 0.1471 - accuracy: 0.9368 - val_loss: 0.1849 - val_accuracy: 0.9021\n",
            "Epoch 28/30\n",
            "41/41 [==============================] - 0s 1ms/step - loss: 0.1461 - accuracy: 0.9368 - val_loss: 0.1834 - val_accuracy: 0.9021\n",
            "Epoch 29/30\n",
            "41/41 [==============================] - 0s 2ms/step - loss: 0.1455 - accuracy: 0.9375 - val_loss: 0.1849 - val_accuracy: 0.9021\n",
            "Epoch 30/30\n",
            "41/41 [==============================] - 0s 2ms/step - loss: 0.1444 - accuracy: 0.9360 - val_loss: 0.1840 - val_accuracy: 0.9021\n"
          ],
          "name": "stdout"
        }
      ]
    },
    {
      "cell_type": "code",
      "metadata": {
        "id": "8NYMo-JtazCA"
      },
      "source": [
        "#predicting on the test set\n",
        "y_pred_mlp = model.predict_classes(X_test)"
      ],
      "execution_count": null,
      "outputs": []
    },
    {
      "cell_type": "markdown",
      "metadata": {
        "id": "jBVUrW6zwVOh"
      },
      "source": [
        "### Evaluation Metrics"
      ]
    },
    {
      "cell_type": "code",
      "metadata": {
        "id": "P8hmNTtRbOkw",
        "outputId": "a82c29cb-ba0a-43ad-83bd-12635f9ef8ac",
        "colab": {
          "base_uri": "https://localhost:8080/"
        }
      },
      "source": [
        "print(accuracy_score(y_test, y_pred_mlp))"
      ],
      "execution_count": null,
      "outputs": [
        {
          "output_type": "stream",
          "text": [
            "0.9327731092436975\n"
          ],
          "name": "stdout"
        }
      ]
    },
    {
      "cell_type": "code",
      "metadata": {
        "id": "HUnBEiJ6P85y",
        "outputId": "2c9d7335-031e-4792-fa0a-8ba2de12871d",
        "colab": {
          "base_uri": "https://localhost:8080/"
        }
      },
      "source": [
        "print(classification_report(y_test, y_pred_mlp))"
      ],
      "execution_count": null,
      "outputs": [
        {
          "output_type": "stream",
          "text": [
            "              precision    recall  f1-score   support\n",
            "\n",
            "           0       0.96      0.97      0.96       316\n",
            "           1       0.73      0.66      0.69        41\n",
            "\n",
            "    accuracy                           0.93       357\n",
            "   macro avg       0.84      0.81      0.83       357\n",
            "weighted avg       0.93      0.93      0.93       357\n",
            "\n"
          ],
          "name": "stdout"
        }
      ]
    },
    {
      "cell_type": "code",
      "metadata": {
        "id": "Gw8Liq6HRfLs"
      },
      "source": [
        "from sklearn.metrics import precision_recall_curve"
      ],
      "execution_count": null,
      "outputs": []
    },
    {
      "cell_type": "code",
      "metadata": {
        "id": "e29Rmyf_TZks"
      },
      "source": [
        "mlp_pred_proba = model.predict(X_test)"
      ],
      "execution_count": null,
      "outputs": []
    },
    {
      "cell_type": "code",
      "metadata": {
        "id": "qyfxAqMaQsGe"
      },
      "source": [
        "prec, recall , _ = precision_recall_curve(y_test, mlp_pred_proba)"
      ],
      "execution_count": null,
      "outputs": []
    },
    {
      "cell_type": "code",
      "metadata": {
        "id": "l2UILeNcTpow",
        "outputId": "86a5134f-6dea-4f6f-ff7d-3aec1c079876",
        "colab": {
          "base_uri": "https://localhost:8080/",
          "height": 295
        }
      },
      "source": [
        "import matplotlib.pyplot as plt\n",
        "plt.plot(recall, prec)\n",
        "plt.xlabel(\"Recall\")\n",
        "plt.ylabel(\"Precision\")\n",
        "plt.title(\"MLP Precision vs Recall\")\n",
        "plt.show()"
      ],
      "execution_count": null,
      "outputs": [
        {
          "output_type": "display_data",
          "data": {
            "image/png": "[encoded data removed]",
            "text/plain": [
              "<Figure size 432x288 with 1 Axes>"
            ]
          },
          "metadata": {
            "tags": [],
            "needs_background": "light"
          }
        }
      ]
    },
    {
      "cell_type": "markdown",
      "metadata": {
        "id": "LcmwtHD7ddul"
      },
      "source": [
        "## Support Vector Machine"
      ]
    },
    {
      "cell_type": "code",
      "metadata": {
        "id": "gGgg4fiAckG4"
      },
      "source": [
        "from sklearn import svm"
      ],
      "execution_count": null,
      "outputs": []
    },
    {
      "cell_type": "code",
      "metadata": {
        "id": "-UVa7r7sdhVO",
        "outputId": "b73e3c4f-5fa2-4bf4-ea74-44e3ba43a27a",
        "colab": {
          "base_uri": "https://localhost:8080/"
        }
      },
      "source": [
        "#defining the SVM with the rbf kernel\n",
        "clf = svm.SVC(kernel='rbf')\n",
        "\n",
        "#training\n",
        "clf.fit(X_train, y_train)"
      ],
      "execution_count": null,
      "outputs": [
        {
          "output_type": "execute_result",
          "data": {
            "text/plain": [
              "SVC(C=1.0, break_ties=False, cache_size=200, class_weight=None, coef0=0.0,\n",
              "    decision_function_shape='ovr', degree=3, gamma='scale', kernel='rbf',\n",
              "    max_iter=-1, probability=False, random_state=None, shrinking=True,\n",
              "    tol=0.001, verbose=False)"
            ]
          },
          "metadata": {
            "tags": []
          },
          "execution_count": 37
        }
      ]
    },
    {
      "cell_type": "code",
      "metadata": {
        "id": "rD-ImNaWdnZm"
      },
      "source": [
        "#predicting on the test set\n",
        "y_pred_svm = clf.predict(X_test)"
      ],
      "execution_count": null,
      "outputs": []
    },
    {
      "cell_type": "markdown",
      "metadata": {
        "id": "Vr7fm7snwmFP"
      },
      "source": [
        "### Evaluation Metrics"
      ]
    },
    {
      "cell_type": "code",
      "metadata": {
        "id": "F9UKXfSDdqfE",
        "outputId": "54738496-a307-410e-f204-5491331bb2e4",
        "colab": {
          "base_uri": "https://localhost:8080/"
        }
      },
      "source": [
        "print(accuracy_score(y_test, y_pred_svm))"
      ],
      "execution_count": null,
      "outputs": [
        {
          "output_type": "stream",
          "text": [
            "0.9159663865546218\n"
          ],
          "name": "stdout"
        }
      ]
    },
    {
      "cell_type": "code",
      "metadata": {
        "id": "9ryeHQ_5RDRE",
        "outputId": "a4b54b2f-021e-4292-bfe0-ad00179d1238",
        "colab": {
          "base_uri": "https://localhost:8080/"
        }
      },
      "source": [
        "print(classification_report(y_test, y_pred_svm))"
      ],
      "execution_count": null,
      "outputs": [
        {
          "output_type": "stream",
          "text": [
            "              precision    recall  f1-score   support\n",
            "\n",
            "           0       0.92      1.00      0.95       316\n",
            "           1       0.92      0.29      0.44        41\n",
            "\n",
            "    accuracy                           0.92       357\n",
            "   macro avg       0.92      0.64      0.70       357\n",
            "weighted avg       0.92      0.92      0.90       357\n",
            "\n"
          ],
          "name": "stdout"
        }
      ]
    },
    {
      "cell_type": "code",
      "metadata": {
        "id": "O7aciX-Wds81",
        "outputId": "d924d8a6-4bbd-49ba-e12a-137a85fdcb34",
        "colab": {
          "base_uri": "https://localhost:8080/",
          "height": 279
        }
      },
      "source": [
        "disp_svm = plot_precision_recall_curve(clf, X_test, y_test)"
      ],
      "execution_count": null,
      "outputs": [
        {
          "output_type": "display_data",
          "data": {
            "image/png": "[encoded data removed]",
            "text/plain": [
              "<Figure size 432x288 with 1 Axes>"
            ]
          },
          "metadata": {
            "tags": [],
            "needs_background": "light"
          }
        }
      ]
    },
    {
      "cell_type": "markdown",
      "metadata": {
        "id": "Ex6qGDK9WYPd"
      },
      "source": [
        "# Real Time Filtering"
      ]
    },
    {
      "cell_type": "markdown",
      "metadata": {
        "id": "ZsDHmC8WWb9G"
      },
      "source": [
        "This is a small code part to show how the system will be used in real time. Since the Random Forest algorithm had the highest accuracy, we have used it for the demo part. "
      ]
    },
    {
      "cell_type": "code",
      "metadata": {
        "id": "cTxlfFEyWY9-"
      },
      "source": [
        "def pred_link(server = \"None\", whois_state=\"None\",  \\\n",
        "              nos_spl_chars = 0, content_len = 0, \\\n",
        "              remote_ips = 0, remote_tcp=0):\n",
        "  #tokenizing the server name\n",
        "  server_token = server_names_map[server]\n",
        "  \n",
        "  #tokeninzing the state name\n",
        "  whois_state_token = state_names_map[whois_state]\n",
        "\n",
        "  #constructing the input array\n",
        "  inp_arr = [[nos_spl_chars, server_token, content_len, whois_state_token, remote_tcp, remote_ips]]\n",
        "  \n",
        "  #constructing the input for the classifier\n",
        "  inp_arr = sc.transform(inp_arr)\n",
        "  \n",
        "  #final result\n",
        "  result = classifier.predict(inp_arr)\n",
        "  if result == 0:\n",
        "    return \"The link is not safe\"\n",
        "\n",
        "  return \"The link is safe\"\n",
        "\n"
      ],
      "execution_count": null,
      "outputs": []
    },
    {
      "cell_type": "code",
      "metadata": {
        "id": "84ATAxL7XzCe",
        "outputId": "4c2cf001-4b7c-4c6f-e243-7bebdda62a41",
        "colab": {
          "base_uri": "https://localhost:8080/",
          "height": 35
        }
      },
      "source": [
        "#actual label 0\n",
        "pred_link(\"Microsoft-HTTPAPI/2.0\",\"Arizona\", 10, 324, 2,13)"
      ],
      "execution_count": null,
      "outputs": [
        {
          "output_type": "execute_result",
          "data": {
            "application/vnd.google.colaboratory.intrinsic+json": {
              "type": "string"
            },
            "text/plain": [
              "'The link is not safe'"
            ]
          },
          "metadata": {
            "tags": []
          },
          "execution_count": 108
        }
      ]
    },
    {
      "cell_type": "code",
      "metadata": {
        "id": "s6NHm-TwitEe",
        "outputId": "2c77dcd6-8e00-4226-8999-3dc0825b6a05",
        "colab": {
          "base_uri": "https://localhost:8080/",
          "height": 35
        }
      },
      "source": [
        "#actual label 0\n",
        "pred_link(\"nginx\",\"PANAMA\", 11, 0, 14,46)"
      ],
      "execution_count": null,
      "outputs": [
        {
          "output_type": "execute_result",
          "data": {
            "application/vnd.google.colaboratory.intrinsic+json": {
              "type": "string"
            },
            "text/plain": [
              "'The link is not safe'"
            ]
          },
          "metadata": {
            "tags": []
          },
          "execution_count": 109
        }
      ]
    },
    {
      "cell_type": "code",
      "metadata": {
        "id": "rsbiNqkwispM",
        "outputId": "3ba9f832-cbb8-4a36-ae30-7fc660edeb82",
        "colab": {
          "base_uri": "https://localhost:8080/",
          "height": 35
        }
      },
      "source": [
        "#actual label 1\n",
        "pred_link(\"Apache/2.2.14 (FreeBSD) mod_ssl/2.2.14 OpenSSL/0.9.8y DAV/2 PHP/5.2.12 with Suhosin-Patch\",\\\n",
        "          \"Utah\", 10, 2516, 2,0)"
      ],
      "execution_count": null,
      "outputs": [
        {
          "output_type": "execute_result",
          "data": {
            "application/vnd.google.colaboratory.intrinsic+json": {
              "type": "string"
            },
            "text/plain": [
              "'The link is safe'"
            ]
          },
          "metadata": {
            "tags": []
          },
          "execution_count": 110
        }
      ]
    },
    {
      "cell_type": "code",
      "metadata": {
        "id": "NHppYPfAjdqT",
        "outputId": "9d083d6a-815b-4187-b176-b43217380228",
        "colab": {
          "base_uri": "https://localhost:8080/",
          "height": 35
        }
      },
      "source": [
        "#actual label 1\n",
        "pred_link(\"nginx\", \"Novosibirskaya obl.\",7,686,2,0 )"
      ],
      "execution_count": null,
      "outputs": [
        {
          "output_type": "execute_result",
          "data": {
            "application/vnd.google.colaboratory.intrinsic+json": {
              "type": "string"
            },
            "text/plain": [
              "'The link is safe'"
            ]
          },
          "metadata": {
            "tags": []
          },
          "execution_count": 111
        }
      ]
    },
    {
      "cell_type": "code",
      "metadata": {
        "id": "9ASKJVDPistg",
        "outputId": "4704a7ed-cacd-4062-f280-6c2916136d44",
        "colab": {
          "base_uri": "https://localhost:8080/",
          "height": 35
        }
      },
      "source": [
        "#actual label 1\n",
        "pred_link(\"nginx/1.10.1\", \"None\", 5, 0, 0,0)"
      ],
      "execution_count": null,
      "outputs": [
        {
          "output_type": "execute_result",
          "data": {
            "application/vnd.google.colaboratory.intrinsic+json": {
              "type": "string"
            },
            "text/plain": [
              "'The link is safe'"
            ]
          },
          "metadata": {
            "tags": []
          },
          "execution_count": 113
        }
      ]
    },
    {
      "cell_type": "code",
      "metadata": {
        "id": "kVXnw4t7j3mt",
        "outputId": "a3323a43-13a4-474b-b55b-46c71bb47886",
        "colab": {
          "base_uri": "https://localhost:8080/",
          "height": 35
        }
      },
      "source": [
        "#actual label 0\n",
        "pred_link(\"None\", \"None\", 7, 13716, 8, 6)"
      ],
      "execution_count": null,
      "outputs": [
        {
          "output_type": "execute_result",
          "data": {
            "application/vnd.google.colaboratory.intrinsic+json": {
              "type": "string"
            },
            "text/plain": [
              "'The link is not safe'"
            ]
          },
          "metadata": {
            "tags": []
          },
          "execution_count": 114
        }
      ]
    }
  ]
}