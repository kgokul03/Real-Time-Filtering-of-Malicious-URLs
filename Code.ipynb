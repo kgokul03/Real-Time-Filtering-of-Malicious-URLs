{
 "cells": [
  {
   "cell_type": "markdown",
   "metadata": {
    "id": "ww7xGh85rwcb"
   },
   "source": [
    "# Real Time Filtering of Malicious URLs"
   ]
  },
  {
   "cell_type": "markdown",
   "metadata": {
    "id": "lGQo6Mvpr1HV"
   },
   "source": [
    "The main aim of this project is to built a lightweight filtering system to filter out the\n",
    "harmful URLs by using Machine Learning Algorithms and methodologies."
   ]
  },
  {
   "cell_type": "markdown",
   "metadata": {
    "id": "Hd8vX7jEsZ9P"
   },
   "source": [
    "The project has three main modules \n",
    "\n",
    "\n",
    "1.   Pre-Processing\n",
    "2.   Building Machine Learning Models and Testing\n",
    "3.   Real Time Filtering\n",
    "\n"
   ]
  },
  {
   "cell_type": "markdown",
   "metadata": {
    "id": "u305mifQswm9"
   },
   "source": [
    "# Loading the dataset\n",
    "The dataset used for this project is taken from Kaggle. This link is https://www.kaggle.com/xwolf12/malicious-and-benign-websites"
   ]
  },
  {
   "cell_type": "code",
   "execution_count": null,
   "metadata": {
    "id": "rY-KdY13OL0x"
   },
   "outputs": [],
   "source": [
    "#importing the pandas and numpy libraries\n",
    "\n",
    "#pandas is used for data processing\n",
    "import pandas as pd\n",
    "\n",
    "#numpy is used for mathematical operations\n",
    "import numpy as np"
   ]
  },
  {
   "cell_type": "code",
   "execution_count": null,
   "metadata": {
    "id": "DiaqWaQSOboN"
   },
   "outputs": [],
   "source": [
    "#loading the dataset\n",
    "df = pd.read_csv(\"/content/dataset.csv\")"
   ]
  },
  {
   "cell_type": "code",
   "execution_count": null,
   "metadata": {
    "colab": {
     "base_uri": "https://localhost:8080/",
     "height": 498
    },
    "id": "GneTkUDEPrp4",
    "outputId": "bdf63da3-d3ec-429f-a15f-60b44f89b3f3",
    "scrolled": false
   },
   "outputs": [],
   "source": [
    "#viewing the data\n",
    "df.head(10)"
   ]
  },
  {
   "cell_type": "markdown",
   "metadata": {
    "id": "T1YfCLEQWzvR"
   },
   "source": [
    "# Pre-Processing\n",
    "The different pre-processing steps done are\n",
    "\n",
    "1.   Feature Selection: Only 6 features were selected for the training of the models. These features were selected based on the covariance value with the output label.\n",
    "2.   Tokenization: Converting the strings to numeric tokens\n",
    "3.   Normalization: Since the range of the numeric data is very large, the variance increases and this affects the training process. To reduce variance, Normalization is done.\n",
    "\n"
   ]
  },
  {
   "cell_type": "markdown",
   "metadata": {
    "id": "nsbGKClRu_to"
   },
   "source": [
    "## Feature Selection"
   ]
  },
  {
   "cell_type": "code",
   "execution_count": null,
   "metadata": {
    "colab": {
     "base_uri": "https://localhost:8080/"
    },
    "id": "h255Vw95PFBp",
    "outputId": "1b2eebc6-b183-4f07-9d43-9bca0cf3b407"
   },
   "outputs": [],
   "source": [
    "#getting all the column names\n",
    "df.columns"
   ]
  },
  {
   "cell_type": "code",
   "execution_count": null,
   "metadata": {
    "colab": {
     "base_uri": "https://localhost:8080/"
    },
    "id": "0s7-mRUaVomo",
    "outputId": "0133bd18-5354-4699-8c57-075c40fd9fce"
   },
   "outputs": [],
   "source": [
    "#total number of columns in the dataframe\n",
    "len(df.columns)"
   ]
  },
  {
   "cell_type": "code",
   "execution_count": null,
   "metadata": {
    "id": "ME2swNPSPGE7"
   },
   "outputs": [],
   "source": [
    "#selecting particular columns\n",
    "df_part= df[['NUMBER_SPECIAL_CHARACTERS','SERVER','CONTENT_LENGTH','WHOIS_STATEPRO','DIST_REMOTE_TCP_PORT','REMOTE_IPS','Type' ]]"
   ]
  },
  {
   "cell_type": "code",
   "execution_count": null,
   "metadata": {
    "colab": {
     "base_uri": "https://localhost:8080/",
     "height": 204
    },
    "id": "uunPmddVPpJQ",
    "outputId": "040aa2c9-7d81-4ae3-b246-47c4b912a339"
   },
   "outputs": [],
   "source": [
    "#viewing the modified dataset\n",
    "df_part.head(5)"
   ]
  },
  {
   "cell_type": "markdown",
   "metadata": {
    "id": "DkVTODnLvCaR"
   },
   "source": [
    "## Tokenization"
   ]
  },
  {
   "cell_type": "code",
   "execution_count": null,
   "metadata": {
    "id": "GANaLFxCQmby"
   },
   "outputs": [],
   "source": [
    "#mapping the server name strings to integers or tokens\n",
    "\n",
    "#getting the unique server names\n",
    "server_names = df.SERVER.unique()\n",
    "\n",
    "#creating a map between the server name and token\n",
    "server_names_map = {k:v for v,k in enumerate(server_names)}"
   ]
  },
  {
   "cell_type": "code",
   "execution_count": null,
   "metadata": {
    "id": "48Mf3f6hQpEW"
   },
   "outputs": [],
   "source": [
    "#getting the unique state names\n",
    "state_names = df.WHOIS_STATEPRO.unique()\n",
    "\n",
    "#creating a map between the state name and token\n",
    "state_names_map = {k:v for v,k in enumerate(state_names)}"
   ]
  },
  {
   "cell_type": "code",
   "execution_count": null,
   "metadata": {
    "id": "M_n64JhcS1-B"
   },
   "outputs": [],
   "source": [
    " #applying the server map to the dataframe\n",
    " df_part.SERVER = df_part.SERVER.apply(lambda x: server_names_map[x])"
   ]
  },
  {
   "cell_type": "code",
   "execution_count": null,
   "metadata": {
    "id": "NyvEqFnrTjfz"
   },
   "outputs": [],
   "source": [
    "#applying the state map to the dataframe\n",
    "df_part.WHOIS_STATEPRO = df_part.WHOIS_STATEPRO.apply(lambda x: state_names_map[x])"
   ]
  },
  {
   "cell_type": "code",
   "execution_count": null,
   "metadata": {
    "id": "DMmQYBeiWHlE"
   },
   "outputs": [],
   "source": [
    "#making the NaN values as 0\n",
    "df_part['CONTENT_LENGTH'] = df_part['CONTENT_LENGTH'].fillna(0)\n",
    "\n",
    "#making the content_length column as type int\n",
    "df_part['CONTENT_LENGTH'] = df_part['CONTENT_LENGTH'].astype('int')"
   ]
  },
  {
   "cell_type": "code",
   "execution_count": null,
   "metadata": {
    "colab": {
     "base_uri": "https://localhost:8080/",
     "height": 204
    },
    "id": "ZuhlhxXJVGLo",
    "outputId": "47cce875-5ea3-422e-9c6a-efe1e63fee75"
   },
   "outputs": [],
   "source": [
    "#viewing the updated dataset\n",
    "df_part.head(5)"
   ]
  },
  {
   "cell_type": "code",
   "execution_count": null,
   "metadata": {
    "id": "qLFZfDAgVezy"
   },
   "outputs": [],
   "source": [
    "#Splitting into X and y\n",
    "\n",
    "X = df_part.iloc[:, :-1]\n",
    "y = df_part.iloc[:, -1]"
   ]
  },
  {
   "cell_type": "code",
   "execution_count": null,
   "metadata": {
    "id": "KIHMFvRcTng2"
   },
   "outputs": [],
   "source": [
    "from sklearn.model_selection import train_test_split\n",
    "\n",
    "#splitting into train and test sets\n",
    "X_train, X_test, y_train, y_test = train_test_split(X, y, test_size=0.2, random_state=0)"
   ]
  },
  {
   "cell_type": "markdown",
   "metadata": {
    "id": "wUDgDMsyu8JF"
   },
   "source": [
    "## Normalization"
   ]
  },
  {
   "cell_type": "code",
   "execution_count": null,
   "metadata": {
    "id": "5GByP6rlUSts"
   },
   "outputs": [],
   "source": [
    "from sklearn.preprocessing import StandardScaler\n",
    "#scaling the values in X_train\n",
    "sc = StandardScaler()\n",
    "X_train = sc.fit_transform(X_train)\n",
    "X_test = sc.transform(X_test)"
   ]
  },
  {
   "cell_type": "markdown",
   "metadata": {
    "id": "orXFM4p-dbxG"
   },
   "source": [
    "# Building Machine Learning models and Testing\n",
    "Three machine learning models were developed to compare and contrast the results of the different models.\n",
    "Three ML models were developed\n",
    "\n",
    "\n",
    "1.   Multi Layer Perceptron\n",
    "2.   Random Forest Classifier\n",
    "3.   Support Vector Machine\n",
    "\n"
   ]
  },
  {
   "cell_type": "markdown",
   "metadata": {
    "id": "-mfRRqmUvi81"
   },
   "source": [
    "## Random Forest Classifier"
   ]
  },
  {
   "cell_type": "code",
   "execution_count": null,
   "metadata": {
    "id": "yGOTyehHP5kh"
   },
   "outputs": [],
   "source": [
    "from sklearn.metrics import classification_report, confusion_matrix, accuracy_score"
   ]
  },
  {
   "cell_type": "code",
   "execution_count": null,
   "metadata": {
    "id": "VRSQ5WK6YIpD"
   },
   "outputs": [],
   "source": [
    "from sklearn.ensemble import RandomForestClassifier\n",
    "\n",
    "#defining the Random Forest model with 30 decision trees\n",
    "classifier = RandomForestClassifier(n_estimators=30, random_state=42)\n",
    "\n",
    "#training the model with the training set\n",
    "classifier.fit(X_train, y_train)\n",
    "\n",
    "#prediciting the outputs on the test set\n",
    "y_pred = classifier.predict(X_test)"
   ]
  },
  {
   "cell_type": "markdown",
   "metadata": {
    "id": "rk6zJHEqv_ds"
   },
   "source": [
    "### Evaluation Metrics"
   ]
  },
  {
   "cell_type": "code",
   "execution_count": null,
   "metadata": {
    "colab": {
     "base_uri": "https://localhost:8080/"
    },
    "id": "eUguqRXQhdXx",
    "outputId": "957a6eae-1a2f-4d1e-8653-2810f82c7bc1"
   },
   "outputs": [],
   "source": [
    "print(classification_report(y_test,y_pred))\n",
    "print(accuracy_score(y_test, y_pred))"
   ]
  },
  {
   "cell_type": "code",
   "execution_count": null,
   "metadata": {
    "id": "CIbijNsSQ4Di"
   },
   "outputs": [],
   "source": [
    "from sklearn.metrics import plot_precision_recall_curve\n",
    "import matplotlib.pyplot as plt\n"
   ]
  },
  {
   "cell_type": "code",
   "execution_count": null,
   "metadata": {
    "colab": {
     "base_uri": "https://localhost:8080/",
     "height": 279
    },
    "id": "t97YVvYHfgD5",
    "outputId": "5dc06636-1748-45a2-82ae-6c6f1d8b024d"
   },
   "outputs": [],
   "source": [
    "#plotting the PR curve\n",
    "disp_rf = plot_precision_recall_curve(classifier, X_test, y_test)\n"
   ]
  },
  {
   "cell_type": "markdown",
   "metadata": {
    "id": "VCLE72_-dZW9"
   },
   "source": [
    "## Multi Layer Perceptron"
   ]
  },
  {
   "cell_type": "code",
   "execution_count": null,
   "metadata": {
    "id": "_0MKpSYoYYPx"
   },
   "outputs": [],
   "source": [
    "#importing the libraries\n",
    "import tensorflow as tf\n",
    "import keras"
   ]
  },
  {
   "cell_type": "code",
   "execution_count": null,
   "metadata": {
    "id": "By4RkdqKZSIK"
   },
   "outputs": [],
   "source": [
    "#defining the ML model\n",
    "model = tf.keras.models.Sequential()\n",
    "model.add(tf.keras.layers.Dense(10, activation='relu'))\n",
    "model.add(tf.keras.layers.Dense(16, activation='relu'))\n",
    "model.add(tf.keras.layers.Dense(32, activation='relu'))\n",
    "model.add(tf.keras.layers.Dense(1, activation='sigmoid'))"
   ]
  },
  {
   "cell_type": "code",
   "execution_count": null,
   "metadata": {
    "id": "d_HamkXeZwPp"
   },
   "outputs": [],
   "source": [
    "adam_optimizer = tf.keras.optimizers.Adam(learning_rate=0.001)\n",
    "model.compile(optimizer=adam_optimizer, loss='binary_crossentropy', metrics=['accuracy'])"
   ]
  },
  {
   "cell_type": "code",
   "execution_count": null,
   "metadata": {
    "colab": {
     "base_uri": "https://localhost:8080/"
    },
    "id": "fXqTGaDsagbB",
    "outputId": "d8e63177-e374-4c35-d988-9906215c5407"
   },
   "outputs": [],
   "source": [
    "history = model.fit(X_train, y_train, batch_size=32, epochs=30, verbose=1, validation_split=0.1, shuffle=True)"
   ]
  },
  {
   "cell_type": "code",
   "execution_count": null,
   "metadata": {
    "id": "8NYMo-JtazCA"
   },
   "outputs": [],
   "source": [
    "#predicting on the test set\n",
    "y_pred_mlp = model.predict_classes(X_test)"
   ]
  },
  {
   "cell_type": "markdown",
   "metadata": {
    "id": "jBVUrW6zwVOh"
   },
   "source": [
    "### Evaluation Metrics"
   ]
  },
  {
   "cell_type": "code",
   "execution_count": null,
   "metadata": {
    "colab": {
     "base_uri": "https://localhost:8080/"
    },
    "id": "P8hmNTtRbOkw",
    "outputId": "a82c29cb-ba0a-43ad-83bd-12635f9ef8ac"
   },
   "outputs": [],
   "source": [
    "print(accuracy_score(y_test, y_pred_mlp))"
   ]
  },
  {
   "cell_type": "code",
   "execution_count": null,
   "metadata": {
    "colab": {
     "base_uri": "https://localhost:8080/"
    },
    "id": "HUnBEiJ6P85y",
    "outputId": "2c9d7335-031e-4792-fa0a-8ba2de12871d"
   },
   "outputs": [],
   "source": [
    "print(classification_report(y_test, y_pred_mlp))"
   ]
  },
  {
   "cell_type": "code",
   "execution_count": null,
   "metadata": {
    "id": "Gw8Liq6HRfLs"
   },
   "outputs": [],
   "source": [
    "from sklearn.metrics import precision_recall_curve"
   ]
  },
  {
   "cell_type": "code",
   "execution_count": null,
   "metadata": {
    "id": "e29Rmyf_TZks"
   },
   "outputs": [],
   "source": [
    "mlp_pred_proba = model.predict(X_test)"
   ]
  },
  {
   "cell_type": "code",
   "execution_count": null,
   "metadata": {
    "id": "qyfxAqMaQsGe"
   },
   "outputs": [],
   "source": [
    "prec, recall , _ = precision_recall_curve(y_test, mlp_pred_proba)"
   ]
  },
  {
   "cell_type": "code",
   "execution_count": null,
   "metadata": {
    "colab": {
     "base_uri": "https://localhost:8080/",
     "height": 295
    },
    "id": "l2UILeNcTpow",
    "outputId": "86a5134f-6dea-4f6f-ff7d-3aec1c079876"
   },
   "outputs": [],
   "source": [
    "import matplotlib.pyplot as plt\n",
    "plt.plot(recall, prec)\n",
    "plt.xlabel(\"Recall\")\n",
    "plt.ylabel(\"Precision\")\n",
    "plt.title(\"MLP Precision vs Recall\")\n",
    "plt.show()"
   ]
  },
  {
   "cell_type": "markdown",
   "metadata": {
    "id": "LcmwtHD7ddul"
   },
   "source": [
    "## Support Vector Machine"
   ]
  },
  {
   "cell_type": "code",
   "execution_count": null,
   "metadata": {
    "id": "gGgg4fiAckG4"
   },
   "outputs": [],
   "source": [
    "from sklearn import svm"
   ]
  },
  {
   "cell_type": "code",
   "execution_count": null,
   "metadata": {
    "colab": {
     "base_uri": "https://localhost:8080/"
    },
    "id": "-UVa7r7sdhVO",
    "outputId": "b73e3c4f-5fa2-4bf4-ea74-44e3ba43a27a"
   },
   "outputs": [],
   "source": [
    "#defining the SVM with the rbf kernel\n",
    "clf = svm.SVC(kernel='rbf')\n",
    "\n",
    "#training\n",
    "clf.fit(X_train, y_train)"
   ]
  },
  {
   "cell_type": "code",
   "execution_count": null,
   "metadata": {
    "id": "rD-ImNaWdnZm"
   },
   "outputs": [],
   "source": [
    "#predicting on the test set\n",
    "y_pred_svm = clf.predict(X_test)"
   ]
  },
  {
   "cell_type": "markdown",
   "metadata": {
    "id": "Vr7fm7snwmFP"
   },
   "source": [
    "### Evaluation Metrics"
   ]
  },
  {
   "cell_type": "code",
   "execution_count": null,
   "metadata": {
    "colab": {
     "base_uri": "https://localhost:8080/"
    },
    "id": "F9UKXfSDdqfE",
    "outputId": "54738496-a307-410e-f204-5491331bb2e4"
   },
   "outputs": [],
   "source": [
    "print(accuracy_score(y_test, y_pred_svm))"
   ]
  },
  {
   "cell_type": "code",
   "execution_count": null,
   "metadata": {
    "colab": {
     "base_uri": "https://localhost:8080/"
    },
    "id": "9ryeHQ_5RDRE",
    "outputId": "a4b54b2f-021e-4292-bfe0-ad00179d1238"
   },
   "outputs": [],
   "source": [
    "print(classification_report(y_test, y_pred_svm))"
   ]
  },
  {
   "cell_type": "code",
   "execution_count": null,
   "metadata": {
    "colab": {
     "base_uri": "https://localhost:8080/",
     "height": 279
    },
    "id": "O7aciX-Wds81",
    "outputId": "d924d8a6-4bbd-49ba-e12a-137a85fdcb34"
   },
   "outputs": [],
   "source": [
    "disp_svm = plot_precision_recall_curve(clf, X_test, y_test)"
   ]
  },
  {
   "cell_type": "markdown",
   "metadata": {
    "id": "Ex6qGDK9WYPd"
   },
   "source": [
    "# Real Time Filtering"
   ]
  },
  {
   "cell_type": "markdown",
   "metadata": {
    "id": "ZsDHmC8WWb9G"
   },
   "source": [
    "This is a small code part to show how the system will be used in real time. Since the Random Forest algorithm had the highest accuracy, we have used it for the demo part. "
   ]
  },
  {
   "cell_type": "code",
   "execution_count": null,
   "metadata": {
    "id": "cTxlfFEyWY9-"
   },
   "outputs": [],
   "source": [
    "def pred_link(server = \"None\", whois_state=\"None\",  \\\n",
    "              nos_spl_chars = 0, content_len = 0, \\\n",
    "              remote_ips = 0, remote_tcp=0):\n",
    "  #tokenizing the server name\n",
    "  server_token = server_names_map[server]\n",
    "  \n",
    "  #tokeninzing the state name\n",
    "  whois_state_token = state_names_map[whois_state]\n",
    "\n",
    "  #constructing the input array\n",
    "  inp_arr = [[nos_spl_chars, server_token, content_len, whois_state_token, remote_tcp, remote_ips]]\n",
    "  \n",
    "  #constructing the input for the classifier\n",
    "  inp_arr = sc.transform(inp_arr)\n",
    "  \n",
    "  #final result\n",
    "  result = classifier.predict(inp_arr)\n",
    "  if result == 0:\n",
    "    return \"The link is not safe\"\n",
    "\n",
    "  return \"The link is safe\"\n",
    "\n"
   ]
  },
  {
   "cell_type": "code",
   "execution_count": null,
   "metadata": {
    "colab": {
     "base_uri": "https://localhost:8080/",
     "height": 35
    },
    "id": "84ATAxL7XzCe",
    "outputId": "4c2cf001-4b7c-4c6f-e243-7bebdda62a41"
   },
   "outputs": [],
   "source": [
    "#actual label 0\n",
    "pred_link(\"Microsoft-HTTPAPI/2.0\",\"Arizona\", 10, 324, 2,13)"
   ]
  },
  {
   "cell_type": "code",
   "execution_count": null,
   "metadata": {
    "colab": {
     "base_uri": "https://localhost:8080/",
     "height": 35
    },
    "id": "s6NHm-TwitEe",
    "outputId": "2c77dcd6-8e00-4226-8999-3dc0825b6a05"
   },
   "outputs": [],
   "source": [
    "#actual label 0\n",
    "pred_link(\"nginx\",\"PANAMA\", 11, 0, 14,46)"
   ]
  },
  {
   "cell_type": "code",
   "execution_count": null,
   "metadata": {
    "colab": {
     "base_uri": "https://localhost:8080/",
     "height": 35
    },
    "id": "rsbiNqkwispM",
    "outputId": "3ba9f832-cbb8-4a36-ae30-7fc660edeb82"
   },
   "outputs": [],
   "source": [
    "#actual label 1\n",
    "pred_link(\"Apache/2.2.14 (FreeBSD) mod_ssl/2.2.14 OpenSSL/0.9.8y DAV/2 PHP/5.2.12 with Suhosin-Patch\",\\\n",
    "          \"Utah\", 10, 2516, 2,0)"
   ]
  },
  {
   "cell_type": "code",
   "execution_count": null,
   "metadata": {
    "colab": {
     "base_uri": "https://localhost:8080/",
     "height": 35
    },
    "id": "NHppYPfAjdqT",
    "outputId": "9d083d6a-815b-4187-b176-b43217380228"
   },
   "outputs": [],
   "source": [
    "#actual label 1\n",
    "pred_link(\"nginx\", \"Novosibirskaya obl.\",7,686,2,0 )"
   ]
  },
  {
   "cell_type": "code",
   "execution_count": null,
   "metadata": {
    "colab": {
     "base_uri": "https://localhost:8080/",
     "height": 35
    },
    "id": "9ASKJVDPistg",
    "outputId": "4704a7ed-cacd-4062-f280-6c2916136d44"
   },
   "outputs": [],
   "source": [
    "#actual label 1\n",
    "pred_link(\"nginx/1.10.1\", \"None\", 5, 0, 0,0)"
   ]
  },
  {
   "cell_type": "code",
   "execution_count": null,
   "metadata": {
    "colab": {
     "base_uri": "https://localhost:8080/",
     "height": 35
    },
    "id": "kVXnw4t7j3mt",
    "outputId": "a3323a43-13a4-474b-b55b-46c71bb47886"
   },
   "outputs": [],
   "source": [
    "#actual label 0\n",
    "pred_link(\"None\", \"None\", 7, 13716, 8, 6)"
   ]
  }
 ],
 "metadata": {
  "colab": {
   "collapsed_sections": [],
   "name": "Security Lab.ipynb",
   "provenance": [],
   "toc_visible": true
  },
  "kernelspec": {
   "display_name": "Python 3",
   "language": "python",
   "name": "python3"
  },
  "language_info": {
   "codemirror_mode": {
    "name": "ipython",
    "version": 3
   },
   "file_extension": ".py",
   "mimetype": "text/x-python",
   "name": "python",
   "nbconvert_exporter": "python",
   "pygments_lexer": "ipython3",
   "version": "3.8.3"
  }
 },
 "nbformat": 4,
 "nbformat_minor": 1
}
